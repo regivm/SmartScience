{
 "cells": [
  {
   "cell_type": "markdown",
   "id": "c3759b27-d4fc-4808-9787-b18fadbd2d7a",
   "metadata": {},
   "source": [
    "### AdaBoost Classifier - from scratch... pseudocode walkthrough"
   ]
  },
  {
   "cell_type": "code",
   "execution_count": 26,
   "id": "666f151f-5f29-4ea2-bd12-a62894d83aee",
   "metadata": {},
   "outputs": [],
   "source": [
    "import numpy as np\n",
    "import pandas as pd\n",
    "import matplotlib.pyplot as plt\n",
    "from matplotlib import style\n",
    "import seaborn as sns\n",
    "from sklearn.tree import DecisionTreeClassifier\n",
    "from sklearn import tree"
   ]
  },
  {
   "cell_type": "code",
   "execution_count": 27,
   "id": "c118baf5-16c6-48b0-ba7a-7b1e62f60289",
   "metadata": {},
   "outputs": [],
   "source": [
    "from sklearn.datasets import load_breast_cancer\n",
    "lbc = load_breast_cancer()\n",
    "df = pd.DataFrame(lbc.data, columns=lbc.feature_names)\n",
    "df['y'] = lbc.target\n",
    "df['y'] = np.where(df['y'] ==0, -1, df['y'])\n",
    "df = df.sample(frac=1, random_state=42).reset_index(drop=True)"
   ]
  },
  {
   "cell_type": "code",
   "execution_count": 28,
   "id": "a43c08c6-d6d2-4042-b582-c97821d4f227",
   "metadata": {},
   "outputs": [
    {
     "data": {
      "text/plain": [
       " 1    357\n",
       "-1    212\n",
       "Name: y, dtype: int64"
      ]
     },
     "execution_count": 28,
     "metadata": {},
     "output_type": "execute_result"
    }
   ],
   "source": [
    "df['y'].value_counts()"
   ]
  },
  {
   "cell_type": "code",
   "execution_count": 29,
   "id": "55301701-41a1-4506-9396-dad4ab13cc93",
   "metadata": {},
   "outputs": [],
   "source": [
    "#print(lbc.DESCR)"
   ]
  },
  {
   "cell_type": "code",
   "execution_count": 30,
   "id": "05eb93a3-4553-4627-abbc-72e0c271f172",
   "metadata": {},
   "outputs": [
    {
     "data": {
      "text/html": [
       "<div>\n",
       "<style scoped>\n",
       "    .dataframe tbody tr th:only-of-type {\n",
       "        vertical-align: middle;\n",
       "    }\n",
       "\n",
       "    .dataframe tbody tr th {\n",
       "        vertical-align: top;\n",
       "    }\n",
       "\n",
       "    .dataframe thead th {\n",
       "        text-align: right;\n",
       "    }\n",
       "</style>\n",
       "<table border=\"1\" class=\"dataframe\">\n",
       "  <thead>\n",
       "    <tr style=\"text-align: right;\">\n",
       "      <th></th>\n",
       "      <th>mean radius</th>\n",
       "      <th>mean texture</th>\n",
       "      <th>mean perimeter</th>\n",
       "      <th>mean area</th>\n",
       "      <th>mean smoothness</th>\n",
       "      <th>mean compactness</th>\n",
       "      <th>mean concavity</th>\n",
       "      <th>mean concave points</th>\n",
       "      <th>mean symmetry</th>\n",
       "      <th>mean fractal dimension</th>\n",
       "      <th>...</th>\n",
       "      <th>worst texture</th>\n",
       "      <th>worst perimeter</th>\n",
       "      <th>worst area</th>\n",
       "      <th>worst smoothness</th>\n",
       "      <th>worst compactness</th>\n",
       "      <th>worst concavity</th>\n",
       "      <th>worst concave points</th>\n",
       "      <th>worst symmetry</th>\n",
       "      <th>worst fractal dimension</th>\n",
       "      <th>y</th>\n",
       "    </tr>\n",
       "  </thead>\n",
       "  <tbody>\n",
       "    <tr>\n",
       "      <th>0</th>\n",
       "      <td>12.47</td>\n",
       "      <td>18.60</td>\n",
       "      <td>81.09</td>\n",
       "      <td>481.9</td>\n",
       "      <td>0.09965</td>\n",
       "      <td>0.1058</td>\n",
       "      <td>0.08005</td>\n",
       "      <td>0.03821</td>\n",
       "      <td>0.1925</td>\n",
       "      <td>0.06373</td>\n",
       "      <td>...</td>\n",
       "      <td>24.64</td>\n",
       "      <td>96.05</td>\n",
       "      <td>677.9</td>\n",
       "      <td>0.1426</td>\n",
       "      <td>0.2378</td>\n",
       "      <td>0.2671</td>\n",
       "      <td>0.10150</td>\n",
       "      <td>0.3014</td>\n",
       "      <td>0.08750</td>\n",
       "      <td>1</td>\n",
       "    </tr>\n",
       "    <tr>\n",
       "      <th>1</th>\n",
       "      <td>18.94</td>\n",
       "      <td>21.31</td>\n",
       "      <td>123.60</td>\n",
       "      <td>1130.0</td>\n",
       "      <td>0.09009</td>\n",
       "      <td>0.1029</td>\n",
       "      <td>0.10800</td>\n",
       "      <td>0.07951</td>\n",
       "      <td>0.1582</td>\n",
       "      <td>0.05461</td>\n",
       "      <td>...</td>\n",
       "      <td>26.58</td>\n",
       "      <td>165.90</td>\n",
       "      <td>1866.0</td>\n",
       "      <td>0.1193</td>\n",
       "      <td>0.2336</td>\n",
       "      <td>0.2687</td>\n",
       "      <td>0.17890</td>\n",
       "      <td>0.2551</td>\n",
       "      <td>0.06589</td>\n",
       "      <td>-1</td>\n",
       "    </tr>\n",
       "    <tr>\n",
       "      <th>2</th>\n",
       "      <td>15.46</td>\n",
       "      <td>19.48</td>\n",
       "      <td>101.70</td>\n",
       "      <td>748.9</td>\n",
       "      <td>0.10920</td>\n",
       "      <td>0.1223</td>\n",
       "      <td>0.14660</td>\n",
       "      <td>0.08087</td>\n",
       "      <td>0.1931</td>\n",
       "      <td>0.05796</td>\n",
       "      <td>...</td>\n",
       "      <td>26.00</td>\n",
       "      <td>124.90</td>\n",
       "      <td>1156.0</td>\n",
       "      <td>0.1546</td>\n",
       "      <td>0.2394</td>\n",
       "      <td>0.3791</td>\n",
       "      <td>0.15140</td>\n",
       "      <td>0.2837</td>\n",
       "      <td>0.08019</td>\n",
       "      <td>-1</td>\n",
       "    </tr>\n",
       "    <tr>\n",
       "      <th>3</th>\n",
       "      <td>12.40</td>\n",
       "      <td>17.68</td>\n",
       "      <td>81.47</td>\n",
       "      <td>467.8</td>\n",
       "      <td>0.10540</td>\n",
       "      <td>0.1316</td>\n",
       "      <td>0.07741</td>\n",
       "      <td>0.02799</td>\n",
       "      <td>0.1811</td>\n",
       "      <td>0.07102</td>\n",
       "      <td>...</td>\n",
       "      <td>22.91</td>\n",
       "      <td>89.61</td>\n",
       "      <td>515.8</td>\n",
       "      <td>0.1450</td>\n",
       "      <td>0.2629</td>\n",
       "      <td>0.2403</td>\n",
       "      <td>0.07370</td>\n",
       "      <td>0.2556</td>\n",
       "      <td>0.09359</td>\n",
       "      <td>1</td>\n",
       "    </tr>\n",
       "    <tr>\n",
       "      <th>4</th>\n",
       "      <td>11.54</td>\n",
       "      <td>14.44</td>\n",
       "      <td>74.65</td>\n",
       "      <td>402.9</td>\n",
       "      <td>0.09984</td>\n",
       "      <td>0.1120</td>\n",
       "      <td>0.06737</td>\n",
       "      <td>0.02594</td>\n",
       "      <td>0.1818</td>\n",
       "      <td>0.06782</td>\n",
       "      <td>...</td>\n",
       "      <td>19.68</td>\n",
       "      <td>78.78</td>\n",
       "      <td>457.8</td>\n",
       "      <td>0.1345</td>\n",
       "      <td>0.2118</td>\n",
       "      <td>0.1797</td>\n",
       "      <td>0.06918</td>\n",
       "      <td>0.2329</td>\n",
       "      <td>0.08134</td>\n",
       "      <td>1</td>\n",
       "    </tr>\n",
       "  </tbody>\n",
       "</table>\n",
       "<p>5 rows × 31 columns</p>\n",
       "</div>"
      ],
      "text/plain": [
       "   mean radius  mean texture  mean perimeter  mean area  mean smoothness  \\\n",
       "0        12.47         18.60           81.09      481.9          0.09965   \n",
       "1        18.94         21.31          123.60     1130.0          0.09009   \n",
       "2        15.46         19.48          101.70      748.9          0.10920   \n",
       "3        12.40         17.68           81.47      467.8          0.10540   \n",
       "4        11.54         14.44           74.65      402.9          0.09984   \n",
       "\n",
       "   mean compactness  mean concavity  mean concave points  mean symmetry  \\\n",
       "0            0.1058         0.08005              0.03821         0.1925   \n",
       "1            0.1029         0.10800              0.07951         0.1582   \n",
       "2            0.1223         0.14660              0.08087         0.1931   \n",
       "3            0.1316         0.07741              0.02799         0.1811   \n",
       "4            0.1120         0.06737              0.02594         0.1818   \n",
       "\n",
       "   mean fractal dimension  ...  worst texture  worst perimeter  worst area  \\\n",
       "0                 0.06373  ...          24.64            96.05       677.9   \n",
       "1                 0.05461  ...          26.58           165.90      1866.0   \n",
       "2                 0.05796  ...          26.00           124.90      1156.0   \n",
       "3                 0.07102  ...          22.91            89.61       515.8   \n",
       "4                 0.06782  ...          19.68            78.78       457.8   \n",
       "\n",
       "   worst smoothness  worst compactness  worst concavity  worst concave points  \\\n",
       "0            0.1426             0.2378           0.2671               0.10150   \n",
       "1            0.1193             0.2336           0.2687               0.17890   \n",
       "2            0.1546             0.2394           0.3791               0.15140   \n",
       "3            0.1450             0.2629           0.2403               0.07370   \n",
       "4            0.1345             0.2118           0.1797               0.06918   \n",
       "\n",
       "   worst symmetry  worst fractal dimension  y  \n",
       "0          0.3014                  0.08750  1  \n",
       "1          0.2551                  0.06589 -1  \n",
       "2          0.2837                  0.08019 -1  \n",
       "3          0.2556                  0.09359  1  \n",
       "4          0.2329                  0.08134  1  \n",
       "\n",
       "[5 rows x 31 columns]"
      ]
     },
     "execution_count": 30,
     "metadata": {},
     "output_type": "execute_result"
    }
   ],
   "source": [
    "df.head()"
   ]
  },
  {
   "cell_type": "code",
   "execution_count": 31,
   "id": "46015c5b-65f8-4f8a-b1ff-ce4660da7201",
   "metadata": {},
   "outputs": [
    {
     "data": {
      "text/plain": [
       "(569, 31)"
      ]
     },
     "execution_count": 31,
     "metadata": {},
     "output_type": "execute_result"
    }
   ],
   "source": [
    "df.shape"
   ]
  },
  {
   "cell_type": "code",
   "execution_count": 32,
   "id": "0ce0057f-14f3-4701-a131-a8ebffbb9a33",
   "metadata": {},
   "outputs": [],
   "source": [
    "cols = ['mean radius', 'mean texture', 'mean perimeter', 'mean area',\n",
    "       'mean smoothness', 'mean compactness', 'mean concavity',\n",
    "       'mean concave points', 'mean symmetry', 'mean fractal dimension',\n",
    "       'radius error', 'texture error', 'perimeter error', 'area error',\n",
    "       'smoothness error', 'compactness error', 'concavity error',\n",
    "       'concave points error', 'symmetry error', 'fractal dimension error',\n",
    "       'worst radius', 'worst texture', 'worst perimeter', 'worst area',\n",
    "       'worst smoothness', 'worst compactness', 'worst concavity',\n",
    "       'worst concave points', 'worst symmetry', 'worst fractal dimension']"
   ]
  },
  {
   "cell_type": "markdown",
   "id": "756005ee-9c36-477f-a0dd-ffe2c1884790",
   "metadata": {},
   "source": [
    "### Step-1"
   ]
  },
  {
   "attachments": {
    "140ff650-4717-46ab-af60-23cdb12f5e13.png": {
     "image/png": "[encoded data removed]"
    }
   },
   "cell_type": "markdown",
   "id": "47f674e5-0410-40f0-b602-9439b4cd78e8",
   "metadata": {},
   "source": [
    "![image.png](attachment:140ff650-4717-46ab-af60-23cdb12f5e13.png)"
   ]
  },
  {
   "cell_type": "code",
   "execution_count": 33,
   "id": "dec6802d-ab46-4c04-8d80-5a4bd34e5722",
   "metadata": {},
   "outputs": [],
   "source": [
    "m=569\n",
    "D1 = 1/m\n",
    "df['D1'] = D1"
   ]
  },
  {
   "cell_type": "code",
   "execution_count": 34,
   "id": "e81254cc-2024-429b-a9ba-8bd310d2fa6d",
   "metadata": {},
   "outputs": [
    {
     "data": {
      "text/html": [
       "<div>\n",
       "<style scoped>\n",
       "    .dataframe tbody tr th:only-of-type {\n",
       "        vertical-align: middle;\n",
       "    }\n",
       "\n",
       "    .dataframe tbody tr th {\n",
       "        vertical-align: top;\n",
       "    }\n",
       "\n",
       "    .dataframe thead th {\n",
       "        text-align: right;\n",
       "    }\n",
       "</style>\n",
       "<table border=\"1\" class=\"dataframe\">\n",
       "  <thead>\n",
       "    <tr style=\"text-align: right;\">\n",
       "      <th></th>\n",
       "      <th>worst symmetry</th>\n",
       "      <th>worst fractal dimension</th>\n",
       "      <th>y</th>\n",
       "      <th>D1</th>\n",
       "    </tr>\n",
       "  </thead>\n",
       "  <tbody>\n",
       "    <tr>\n",
       "      <th>0</th>\n",
       "      <td>0.3014</td>\n",
       "      <td>0.08750</td>\n",
       "      <td>1</td>\n",
       "      <td>0.001757</td>\n",
       "    </tr>\n",
       "    <tr>\n",
       "      <th>1</th>\n",
       "      <td>0.2551</td>\n",
       "      <td>0.06589</td>\n",
       "      <td>-1</td>\n",
       "      <td>0.001757</td>\n",
       "    </tr>\n",
       "    <tr>\n",
       "      <th>2</th>\n",
       "      <td>0.2837</td>\n",
       "      <td>0.08019</td>\n",
       "      <td>-1</td>\n",
       "      <td>0.001757</td>\n",
       "    </tr>\n",
       "    <tr>\n",
       "      <th>3</th>\n",
       "      <td>0.2556</td>\n",
       "      <td>0.09359</td>\n",
       "      <td>1</td>\n",
       "      <td>0.001757</td>\n",
       "    </tr>\n",
       "  </tbody>\n",
       "</table>\n",
       "</div>"
      ],
      "text/plain": [
       "   worst symmetry  worst fractal dimension  y        D1\n",
       "0          0.3014                  0.08750  1  0.001757\n",
       "1          0.2551                  0.06589 -1  0.001757\n",
       "2          0.2837                  0.08019 -1  0.001757\n",
       "3          0.2556                  0.09359  1  0.001757"
      ]
     },
     "execution_count": 34,
     "metadata": {},
     "output_type": "execute_result"
    }
   ],
   "source": [
    "df.iloc[:,28:].head(4)"
   ]
  },
  {
   "cell_type": "markdown",
   "id": "050ede15-104f-44e5-8e04-ffb104333369",
   "metadata": {},
   "source": [
    "### Step-2"
   ]
  },
  {
   "attachments": {
    "5ce95a5b-4fd3-4d8b-8b3a-d40bc785d460.png": {
     "image/png": "[encoded data removed]"
    }
   },
   "cell_type": "markdown",
   "id": "f7171cbd-7962-42f6-ac5e-58ee5ee4dbf8",
   "metadata": {},
   "source": [
    "![image.png](attachment:5ce95a5b-4fd3-4d8b-8b3a-d40bc785d460.png)"
   ]
  },
  {
   "cell_type": "raw",
   "id": "7e93a310-c93e-498e-a8bf-9fd0fd4c9424",
   "metadata": {},
   "source": [
    "Lets build a weak hypothesis (decision tree). Lets work on it without loop."
   ]
  },
  {
   "cell_type": "code",
   "execution_count": 35,
   "id": "2e8582dd-4810-40b3-8054-3cb91ee3ce90",
   "metadata": {},
   "outputs": [
    {
     "data": {
      "text/html": [
       "<style>#sk-container-id-2 {color: black;background-color: white;}#sk-container-id-2 pre{padding: 0;}#sk-container-id-2 div.sk-toggleable {background-color: white;}#sk-container-id-2 label.sk-toggleable__label {cursor: pointer;display: block;width: 100%;margin-bottom: 0;padding: 0.3em;box-sizing: border-box;text-align: center;}#sk-container-id-2 label.sk-toggleable__label-arrow:before {content: \"▸\";float: left;margin-right: 0.25em;color: #696969;}#sk-container-id-2 label.sk-toggleable__label-arrow:hover:before {color: black;}#sk-container-id-2 div.sk-estimator:hover label.sk-toggleable__label-arrow:before {color: black;}#sk-container-id-2 div.sk-toggleable__content {max-height: 0;max-width: 0;overflow: hidden;text-align: left;background-color: #f0f8ff;}#sk-container-id-2 div.sk-toggleable__content pre {margin: 0.2em;color: black;border-radius: 0.25em;background-color: #f0f8ff;}#sk-container-id-2 input.sk-toggleable__control:checked~div.sk-toggleable__content {max-height: 200px;max-width: 100%;overflow: auto;}#sk-container-id-2 input.sk-toggleable__control:checked~label.sk-toggleable__label-arrow:before {content: \"▾\";}#sk-container-id-2 div.sk-estimator input.sk-toggleable__control:checked~label.sk-toggleable__label {background-color: #d4ebff;}#sk-container-id-2 div.sk-label input.sk-toggleable__control:checked~label.sk-toggleable__label {background-color: #d4ebff;}#sk-container-id-2 input.sk-hidden--visually {border: 0;clip: rect(1px 1px 1px 1px);clip: rect(1px, 1px, 1px, 1px);height: 1px;margin: -1px;overflow: hidden;padding: 0;position: absolute;width: 1px;}#sk-container-id-2 div.sk-estimator {font-family: monospace;background-color: #f0f8ff;border: 1px dotted black;border-radius: 0.25em;box-sizing: border-box;margin-bottom: 0.5em;}#sk-container-id-2 div.sk-estimator:hover {background-color: #d4ebff;}#sk-container-id-2 div.sk-parallel-item::after {content: \"\";width: 100%;border-bottom: 1px solid gray;flex-grow: 1;}#sk-container-id-2 div.sk-label:hover label.sk-toggleable__label {background-color: #d4ebff;}#sk-container-id-2 div.sk-serial::before {content: \"\";position: absolute;border-left: 1px solid gray;box-sizing: border-box;top: 0;bottom: 0;left: 50%;z-index: 0;}#sk-container-id-2 div.sk-serial {display: flex;flex-direction: column;align-items: center;background-color: white;padding-right: 0.2em;padding-left: 0.2em;position: relative;}#sk-container-id-2 div.sk-item {position: relative;z-index: 1;}#sk-container-id-2 div.sk-parallel {display: flex;align-items: stretch;justify-content: center;background-color: white;position: relative;}#sk-container-id-2 div.sk-item::before, #sk-container-id-2 div.sk-parallel-item::before {content: \"\";position: absolute;border-left: 1px solid gray;box-sizing: border-box;top: 0;bottom: 0;left: 50%;z-index: -1;}#sk-container-id-2 div.sk-parallel-item {display: flex;flex-direction: column;z-index: 1;position: relative;background-color: white;}#sk-container-id-2 div.sk-parallel-item:first-child::after {align-self: flex-end;width: 50%;}#sk-container-id-2 div.sk-parallel-item:last-child::after {align-self: flex-start;width: 50%;}#sk-container-id-2 div.sk-parallel-item:only-child::after {width: 0;}#sk-container-id-2 div.sk-dashed-wrapped {border: 1px dashed gray;margin: 0 0.4em 0.5em 0.4em;box-sizing: border-box;padding-bottom: 0.4em;background-color: white;}#sk-container-id-2 div.sk-label label {font-family: monospace;font-weight: bold;display: inline-block;line-height: 1.2em;}#sk-container-id-2 div.sk-label-container {text-align: center;}#sk-container-id-2 div.sk-container {/* jupyter's `normalize.less` sets `[hidden] { display: none; }` but bootstrap.min.css set `[hidden] { display: none !important; }` so we also need the `!important` here to be able to override the default hidden behavior on the sphinx rendered scikit-learn.org. See: https://github.com/scikit-learn/scikit-learn/issues/21755 */display: inline-block !important;position: relative;}#sk-container-id-2 div.sk-text-repr-fallback {display: none;}</style><div id=\"sk-container-id-2\" class=\"sk-top-container\"><div class=\"sk-text-repr-fallback\"><pre>DecisionTreeClassifier(max_depth=1, random_state=42)</pre><b>In a Jupyter environment, please rerun this cell to show the HTML representation or trust the notebook. <br />On GitHub, the HTML representation is unable to render, please try loading this page with nbviewer.org.</b></div><div class=\"sk-container\" hidden><div class=\"sk-item\"><div class=\"sk-estimator sk-toggleable\"><input class=\"sk-toggleable__control sk-hidden--visually\" id=\"sk-estimator-id-2\" type=\"checkbox\" checked><label for=\"sk-estimator-id-2\" class=\"sk-toggleable__label sk-toggleable__label-arrow\">DecisionTreeClassifier</label><div class=\"sk-toggleable__content\"><pre>DecisionTreeClassifier(max_depth=1, random_state=42)</pre></div></div></div></div></div>"
      ],
      "text/plain": [
       "DecisionTreeClassifier(max_depth=1, random_state=42)"
      ]
     },
     "execution_count": 35,
     "metadata": {},
     "output_type": "execute_result"
    }
   ],
   "source": [
    "dtc = DecisionTreeClassifier(criterion='gini', random_state=42, max_depth=1)\n",
    "dtc.fit(df.loc[:,cols], df['y'])"
   ]
  },
  {
   "cell_type": "code",
   "execution_count": 36,
   "id": "a09e5d6e-717b-4cce-b83a-bf957e170ad6",
   "metadata": {},
   "outputs": [
    {
     "data": {
      "image/png": "[encoded data removed]",
      "text/plain": [
       "<Figure size 432x288 with 1 Axes>"
      ]
     },
     "metadata": {
      "needs_background": "light"
     },
     "output_type": "display_data"
    }
   ],
   "source": [
    "tree.plot_tree(dtc, rounded=True)\n",
    "plt.show()"
   ]
  },
  {
   "attachments": {
    "991ee5bd-d066-4394-9617-b5401aef8418.png": {
     "image/png": "[encoded data removed]"
    }
   },
   "cell_type": "markdown",
   "id": "b89e97d5-5af2-42fd-890a-9fda942bf197",
   "metadata": {},
   "source": [
    "![image.png](attachment:991ee5bd-d066-4394-9617-b5401aef8418.png)"
   ]
  },
  {
   "cell_type": "code",
   "execution_count": 37,
   "id": "58353514-da26-4dd6-93f1-17eaa63a7688",
   "metadata": {},
   "outputs": [],
   "source": [
    "y_pred = dtc.predict(df.loc[:,cols]) #### ht\n",
    "df['y_pred1'] = y_pred\n",
    "tot_error = sum(df['D1'][df['y']!=df['y_pred1']])\n",
    "alpha = 0.5*np.log((1-tot_error)/tot_error)\n",
    "df['alpha1'] = alpha"
   ]
  },
  {
   "cell_type": "code",
   "execution_count": 38,
   "id": "8af3bbbc-1cfb-4d7d-868c-19ee75a6b22d",
   "metadata": {},
   "outputs": [],
   "source": [
    "df['D2'] = df['D1']*np.exp(-alpha*df['y']*df['y_pred1'])\n",
    "zt = sum(df['D2'])\n",
    "df['D2'] = df['D2']/zt"
   ]
  },
  {
   "cell_type": "code",
   "execution_count": 39,
   "id": "304e9c21-fb81-41fd-b0b1-5f775ee1aa27",
   "metadata": {},
   "outputs": [
    {
     "data": {
      "text/html": [
       "<div>\n",
       "<style scoped>\n",
       "    .dataframe tbody tr th:only-of-type {\n",
       "        vertical-align: middle;\n",
       "    }\n",
       "\n",
       "    .dataframe tbody tr th {\n",
       "        vertical-align: top;\n",
       "    }\n",
       "\n",
       "    .dataframe thead th {\n",
       "        text-align: right;\n",
       "    }\n",
       "</style>\n",
       "<table border=\"1\" class=\"dataframe\">\n",
       "  <thead>\n",
       "    <tr style=\"text-align: right;\">\n",
       "      <th></th>\n",
       "      <th>worst symmetry</th>\n",
       "      <th>worst fractal dimension</th>\n",
       "      <th>y</th>\n",
       "      <th>D1</th>\n",
       "      <th>y_pred1</th>\n",
       "      <th>alpha1</th>\n",
       "      <th>D2</th>\n",
       "    </tr>\n",
       "  </thead>\n",
       "  <tbody>\n",
       "    <tr>\n",
       "      <th>0</th>\n",
       "      <td>0.3014</td>\n",
       "      <td>0.08750</td>\n",
       "      <td>1</td>\n",
       "      <td>0.001757</td>\n",
       "      <td>1</td>\n",
       "      <td>1.239604</td>\n",
       "      <td>0.000952</td>\n",
       "    </tr>\n",
       "    <tr>\n",
       "      <th>1</th>\n",
       "      <td>0.2551</td>\n",
       "      <td>0.06589</td>\n",
       "      <td>-1</td>\n",
       "      <td>0.001757</td>\n",
       "      <td>-1</td>\n",
       "      <td>1.239604</td>\n",
       "      <td>0.000952</td>\n",
       "    </tr>\n",
       "    <tr>\n",
       "      <th>2</th>\n",
       "      <td>0.2837</td>\n",
       "      <td>0.08019</td>\n",
       "      <td>-1</td>\n",
       "      <td>0.001757</td>\n",
       "      <td>-1</td>\n",
       "      <td>1.239604</td>\n",
       "      <td>0.000952</td>\n",
       "    </tr>\n",
       "  </tbody>\n",
       "</table>\n",
       "</div>"
      ],
      "text/plain": [
       "   worst symmetry  worst fractal dimension  y        D1  y_pred1    alpha1  \\\n",
       "0          0.3014                  0.08750  1  0.001757        1  1.239604   \n",
       "1          0.2551                  0.06589 -1  0.001757       -1  1.239604   \n",
       "2          0.2837                  0.08019 -1  0.001757       -1  1.239604   \n",
       "\n",
       "         D2  \n",
       "0  0.000952  \n",
       "1  0.000952  \n",
       "2  0.000952  "
      ]
     },
     "execution_count": 39,
     "metadata": {},
     "output_type": "execute_result"
    }
   ],
   "source": [
    "df.iloc[:,28:].head(3)"
   ]
  },
  {
   "cell_type": "code",
   "execution_count": 40,
   "id": "76841874-4c09-44da-a93d-f00ffe5335c8",
   "metadata": {},
   "outputs": [
    {
     "data": {
      "text/html": [
       "<div>\n",
       "<style scoped>\n",
       "    .dataframe tbody tr th:only-of-type {\n",
       "        vertical-align: middle;\n",
       "    }\n",
       "\n",
       "    .dataframe tbody tr th {\n",
       "        vertical-align: top;\n",
       "    }\n",
       "\n",
       "    .dataframe thead th {\n",
       "        text-align: right;\n",
       "    }\n",
       "</style>\n",
       "<table border=\"1\" class=\"dataframe\">\n",
       "  <thead>\n",
       "    <tr style=\"text-align: right;\">\n",
       "      <th></th>\n",
       "      <th>worst symmetry</th>\n",
       "      <th>worst fractal dimension</th>\n",
       "      <th>y</th>\n",
       "      <th>D1</th>\n",
       "      <th>y_pred1</th>\n",
       "      <th>alpha1</th>\n",
       "      <th>D2</th>\n",
       "    </tr>\n",
       "  </thead>\n",
       "  <tbody>\n",
       "    <tr>\n",
       "      <th>20</th>\n",
       "      <td>0.2589</td>\n",
       "      <td>0.10300</td>\n",
       "      <td>-1</td>\n",
       "      <td>0.001757</td>\n",
       "      <td>1</td>\n",
       "      <td>1.239604</td>\n",
       "      <td>0.011364</td>\n",
       "    </tr>\n",
       "    <tr>\n",
       "      <th>58</th>\n",
       "      <td>0.2807</td>\n",
       "      <td>0.10710</td>\n",
       "      <td>-1</td>\n",
       "      <td>0.001757</td>\n",
       "      <td>1</td>\n",
       "      <td>1.239604</td>\n",
       "      <td>0.011364</td>\n",
       "    </tr>\n",
       "    <tr>\n",
       "      <th>70</th>\n",
       "      <td>0.3080</td>\n",
       "      <td>0.09333</td>\n",
       "      <td>-1</td>\n",
       "      <td>0.001757</td>\n",
       "      <td>1</td>\n",
       "      <td>1.239604</td>\n",
       "      <td>0.011364</td>\n",
       "    </tr>\n",
       "  </tbody>\n",
       "</table>\n",
       "</div>"
      ],
      "text/plain": [
       "    worst symmetry  worst fractal dimension  y        D1  y_pred1    alpha1  \\\n",
       "20          0.2589                  0.10300 -1  0.001757        1  1.239604   \n",
       "58          0.2807                  0.10710 -1  0.001757        1  1.239604   \n",
       "70          0.3080                  0.09333 -1  0.001757        1  1.239604   \n",
       "\n",
       "          D2  \n",
       "20  0.011364  \n",
       "58  0.011364  \n",
       "70  0.011364  "
      ]
     },
     "execution_count": 40,
     "metadata": {},
     "output_type": "execute_result"
    }
   ],
   "source": [
    "df.iloc[:,28:][df['y_pred1']!=df['y']].head(3)"
   ]
  },
  {
   "cell_type": "raw",
   "id": "f779ec2d-1080-4cce-92a1-4272bf0d6cc8",
   "metadata": {},
   "source": [
    "Let's quickly take a look at the relationship between total error and amount of say."
   ]
  },
  {
   "cell_type": "code",
   "execution_count": 41,
   "id": "0ac6f4b5-0e1c-4d61-88d4-2fbc62133476",
   "metadata": {},
   "outputs": [
    {
     "data": {
      "image/png": "[encoded data removed]",
      "text/plain": [
       "<Figure size 432x288 with 1 Axes>"
      ]
     },
     "metadata": {
      "needs_background": "light"
     },
     "output_type": "display_data"
    }
   ],
   "source": [
    "terror = np.linspace(0.001, 0.99, 100)\n",
    "alpha = 0.5*np.log((1-terror)/terror)\n",
    "plt.plot(terror, alpha)\n",
    "plt.xlabel('Total Error')\n",
    "plt.ylabel('Amount of Say(Alpha)')\n",
    "plt.show()"
   ]
  },
  {
   "cell_type": "markdown",
   "id": "d66ebed1-1ca3-40c1-b104-671a882a48ba",
   "metadata": {
    "tags": []
   },
   "source": [
    "### Step-3"
   ]
  },
  {
   "cell_type": "markdown",
   "id": "4dd1158f-3dbb-4f74-b3c5-8ff1a3169bde",
   "metadata": {},
   "source": [
    "#### Now let's build the loop to build many trees and aggregate the results"
   ]
  },
  {
   "cell_type": "code",
   "execution_count": 42,
   "id": "922dae1c-4878-4fc8-a60e-d41cc3a1addf",
   "metadata": {},
   "outputs": [],
   "source": [
    "lbc = load_breast_cancer()\n",
    "df = pd.DataFrame(lbc.data, columns=lbc.feature_names)\n",
    "df['y'] = lbc.target\n",
    "df['y'] = np.where(df['y'] ==0, -1, df['y'])\n",
    "df = df.sample(frac=1, random_state=42).reset_index(drop=True)\n",
    "\n",
    "## Initialize the weight\n",
    "m=569\n",
    "D1 = 1/m\n",
    "df['D1'] = D1"
   ]
  },
  {
   "cell_type": "code",
   "execution_count": 43,
   "id": "42e8e00f-64d8-44d9-a677-38dc1516d920",
   "metadata": {},
   "outputs": [
    {
     "name": "stdout",
     "output_type": "stream",
     "text": [
      "alpha 0 1.239604314336681\n",
      "alpha 1 -3.5527136788005136e-15\n",
      "alpha 2 -2.2204460492503136e-16\n",
      "alpha 3 -3.108624468950448e-15\n"
     ]
    }
   ],
   "source": [
    "T=4\n",
    "for i in range(T):\n",
    "    dtc = DecisionTreeClassifier(criterion='gini', random_state=42, max_depth=1)\n",
    "    dtc.fit(df.loc[:,cols], df['y'])\n",
    "    \n",
    "    ### calculate total error and alpha\n",
    "    y_pred = dtc.predict(df.loc[:,cols]) #### ht\n",
    "    df['y_pred'+str(i)] = y_pred\n",
    "    tot_error = sum(df['D1'][df['y']!=df['y_pred'+str(i)]])\n",
    "    alpha = 0.5*np.log((1-tot_error)/tot_error)\n",
    "    print('alpha', i, alpha)\n",
    "    df['alpha'+str(i)]= alpha\n",
    "    \n",
    "    ### update weights\n",
    "    df['D2'] = df['D1']*np.exp(-alpha*(df['y']*df['y_pred'+str(i)]))\n",
    "    zt = sum(df['D2'])\n",
    "    df= df.drop('D1', axis=1)     \n",
    "    df['D2'] = df['D2']/zt\n",
    "    df['D1'] = df['D2']            "
   ]
  },
  {
   "cell_type": "code",
   "execution_count": 44,
   "id": "ccbcef64-b2e5-470e-b184-b96624bd8a7c",
   "metadata": {},
   "outputs": [
    {
     "data": {
      "text/html": [
       "<div>\n",
       "<style scoped>\n",
       "    .dataframe tbody tr th:only-of-type {\n",
       "        vertical-align: middle;\n",
       "    }\n",
       "\n",
       "    .dataframe tbody tr th {\n",
       "        vertical-align: top;\n",
       "    }\n",
       "\n",
       "    .dataframe thead th {\n",
       "        text-align: right;\n",
       "    }\n",
       "</style>\n",
       "<table border=\"1\" class=\"dataframe\">\n",
       "  <thead>\n",
       "    <tr style=\"text-align: right;\">\n",
       "      <th></th>\n",
       "      <th>worst symmetry</th>\n",
       "      <th>worst fractal dimension</th>\n",
       "      <th>y</th>\n",
       "      <th>y_pred0</th>\n",
       "      <th>alpha0</th>\n",
       "      <th>D2</th>\n",
       "      <th>y_pred1</th>\n",
       "      <th>alpha1</th>\n",
       "      <th>y_pred2</th>\n",
       "      <th>alpha2</th>\n",
       "      <th>y_pred3</th>\n",
       "      <th>alpha3</th>\n",
       "      <th>D1</th>\n",
       "    </tr>\n",
       "  </thead>\n",
       "  <tbody>\n",
       "    <tr>\n",
       "      <th>0</th>\n",
       "      <td>0.3014</td>\n",
       "      <td>0.08750</td>\n",
       "      <td>1</td>\n",
       "      <td>1</td>\n",
       "      <td>1.239604</td>\n",
       "      <td>0.000952</td>\n",
       "      <td>1</td>\n",
       "      <td>-3.552714e-15</td>\n",
       "      <td>1</td>\n",
       "      <td>-2.220446e-16</td>\n",
       "      <td>1</td>\n",
       "      <td>-3.108624e-15</td>\n",
       "      <td>0.000952</td>\n",
       "    </tr>\n",
       "    <tr>\n",
       "      <th>1</th>\n",
       "      <td>0.2551</td>\n",
       "      <td>0.06589</td>\n",
       "      <td>-1</td>\n",
       "      <td>-1</td>\n",
       "      <td>1.239604</td>\n",
       "      <td>0.000952</td>\n",
       "      <td>-1</td>\n",
       "      <td>-3.552714e-15</td>\n",
       "      <td>-1</td>\n",
       "      <td>-2.220446e-16</td>\n",
       "      <td>-1</td>\n",
       "      <td>-3.108624e-15</td>\n",
       "      <td>0.000952</td>\n",
       "    </tr>\n",
       "    <tr>\n",
       "      <th>2</th>\n",
       "      <td>0.2837</td>\n",
       "      <td>0.08019</td>\n",
       "      <td>-1</td>\n",
       "      <td>-1</td>\n",
       "      <td>1.239604</td>\n",
       "      <td>0.000952</td>\n",
       "      <td>-1</td>\n",
       "      <td>-3.552714e-15</td>\n",
       "      <td>-1</td>\n",
       "      <td>-2.220446e-16</td>\n",
       "      <td>-1</td>\n",
       "      <td>-3.108624e-15</td>\n",
       "      <td>0.000952</td>\n",
       "    </tr>\n",
       "    <tr>\n",
       "      <th>3</th>\n",
       "      <td>0.2556</td>\n",
       "      <td>0.09359</td>\n",
       "      <td>1</td>\n",
       "      <td>1</td>\n",
       "      <td>1.239604</td>\n",
       "      <td>0.000952</td>\n",
       "      <td>1</td>\n",
       "      <td>-3.552714e-15</td>\n",
       "      <td>1</td>\n",
       "      <td>-2.220446e-16</td>\n",
       "      <td>1</td>\n",
       "      <td>-3.108624e-15</td>\n",
       "      <td>0.000952</td>\n",
       "    </tr>\n",
       "  </tbody>\n",
       "</table>\n",
       "</div>"
      ],
      "text/plain": [
       "   worst symmetry  worst fractal dimension  y  y_pred0    alpha0        D2  \\\n",
       "0          0.3014                  0.08750  1        1  1.239604  0.000952   \n",
       "1          0.2551                  0.06589 -1       -1  1.239604  0.000952   \n",
       "2          0.2837                  0.08019 -1       -1  1.239604  0.000952   \n",
       "3          0.2556                  0.09359  1        1  1.239604  0.000952   \n",
       "\n",
       "   y_pred1        alpha1  y_pred2        alpha2  y_pred3        alpha3  \\\n",
       "0        1 -3.552714e-15        1 -2.220446e-16        1 -3.108624e-15   \n",
       "1       -1 -3.552714e-15       -1 -2.220446e-16       -1 -3.108624e-15   \n",
       "2       -1 -3.552714e-15       -1 -2.220446e-16       -1 -3.108624e-15   \n",
       "3        1 -3.552714e-15        1 -2.220446e-16        1 -3.108624e-15   \n",
       "\n",
       "         D1  \n",
       "0  0.000952  \n",
       "1  0.000952  \n",
       "2  0.000952  \n",
       "3  0.000952  "
      ]
     },
     "execution_count": 44,
     "metadata": {},
     "output_type": "execute_result"
    }
   ],
   "source": [
    "df.iloc[:,28:].head(4)"
   ]
  },
  {
   "cell_type": "code",
   "execution_count": 45,
   "id": "ac216ccf-d4b8-4de3-a712-8b57375a8df8",
   "metadata": {},
   "outputs": [],
   "source": [
    "df['y_pred']=0\n",
    "for i in range(T):\n",
    "    df['y_pred'] = df['y_pred'] + df['alpha'+str(i)]*df['y_pred'+str(i)]\n",
    "\n",
    "df['y_pred'] = np.sign(df['y_pred'])"
   ]
  },
  {
   "cell_type": "code",
   "execution_count": 46,
   "id": "6204ba7f-5de4-4742-99c6-66cde4b216ba",
   "metadata": {},
   "outputs": [
    {
     "data": {
      "text/html": [
       "<div>\n",
       "<style scoped>\n",
       "    .dataframe tbody tr th:only-of-type {\n",
       "        vertical-align: middle;\n",
       "    }\n",
       "\n",
       "    .dataframe tbody tr th {\n",
       "        vertical-align: top;\n",
       "    }\n",
       "\n",
       "    .dataframe thead th {\n",
       "        text-align: right;\n",
       "    }\n",
       "</style>\n",
       "<table border=\"1\" class=\"dataframe\">\n",
       "  <thead>\n",
       "    <tr style=\"text-align: right;\">\n",
       "      <th></th>\n",
       "      <th>worst symmetry</th>\n",
       "      <th>worst fractal dimension</th>\n",
       "      <th>y</th>\n",
       "      <th>y_pred0</th>\n",
       "      <th>alpha0</th>\n",
       "      <th>D2</th>\n",
       "      <th>y_pred1</th>\n",
       "      <th>alpha1</th>\n",
       "      <th>y_pred2</th>\n",
       "      <th>alpha2</th>\n",
       "      <th>y_pred3</th>\n",
       "      <th>alpha3</th>\n",
       "      <th>D1</th>\n",
       "      <th>y_pred</th>\n",
       "    </tr>\n",
       "  </thead>\n",
       "  <tbody>\n",
       "    <tr>\n",
       "      <th>0</th>\n",
       "      <td>0.3014</td>\n",
       "      <td>0.08750</td>\n",
       "      <td>1</td>\n",
       "      <td>1</td>\n",
       "      <td>1.239604</td>\n",
       "      <td>0.000952</td>\n",
       "      <td>1</td>\n",
       "      <td>-3.552714e-15</td>\n",
       "      <td>1</td>\n",
       "      <td>-2.220446e-16</td>\n",
       "      <td>1</td>\n",
       "      <td>-3.108624e-15</td>\n",
       "      <td>0.000952</td>\n",
       "      <td>1.0</td>\n",
       "    </tr>\n",
       "    <tr>\n",
       "      <th>1</th>\n",
       "      <td>0.2551</td>\n",
       "      <td>0.06589</td>\n",
       "      <td>-1</td>\n",
       "      <td>-1</td>\n",
       "      <td>1.239604</td>\n",
       "      <td>0.000952</td>\n",
       "      <td>-1</td>\n",
       "      <td>-3.552714e-15</td>\n",
       "      <td>-1</td>\n",
       "      <td>-2.220446e-16</td>\n",
       "      <td>-1</td>\n",
       "      <td>-3.108624e-15</td>\n",
       "      <td>0.000952</td>\n",
       "      <td>-1.0</td>\n",
       "    </tr>\n",
       "    <tr>\n",
       "      <th>2</th>\n",
       "      <td>0.2837</td>\n",
       "      <td>0.08019</td>\n",
       "      <td>-1</td>\n",
       "      <td>-1</td>\n",
       "      <td>1.239604</td>\n",
       "      <td>0.000952</td>\n",
       "      <td>-1</td>\n",
       "      <td>-3.552714e-15</td>\n",
       "      <td>-1</td>\n",
       "      <td>-2.220446e-16</td>\n",
       "      <td>-1</td>\n",
       "      <td>-3.108624e-15</td>\n",
       "      <td>0.000952</td>\n",
       "      <td>-1.0</td>\n",
       "    </tr>\n",
       "    <tr>\n",
       "      <th>3</th>\n",
       "      <td>0.2556</td>\n",
       "      <td>0.09359</td>\n",
       "      <td>1</td>\n",
       "      <td>1</td>\n",
       "      <td>1.239604</td>\n",
       "      <td>0.000952</td>\n",
       "      <td>1</td>\n",
       "      <td>-3.552714e-15</td>\n",
       "      <td>1</td>\n",
       "      <td>-2.220446e-16</td>\n",
       "      <td>1</td>\n",
       "      <td>-3.108624e-15</td>\n",
       "      <td>0.000952</td>\n",
       "      <td>1.0</td>\n",
       "    </tr>\n",
       "  </tbody>\n",
       "</table>\n",
       "</div>"
      ],
      "text/plain": [
       "   worst symmetry  worst fractal dimension  y  y_pred0    alpha0        D2  \\\n",
       "0          0.3014                  0.08750  1        1  1.239604  0.000952   \n",
       "1          0.2551                  0.06589 -1       -1  1.239604  0.000952   \n",
       "2          0.2837                  0.08019 -1       -1  1.239604  0.000952   \n",
       "3          0.2556                  0.09359  1        1  1.239604  0.000952   \n",
       "\n",
       "   y_pred1        alpha1  y_pred2        alpha2  y_pred3        alpha3  \\\n",
       "0        1 -3.552714e-15        1 -2.220446e-16        1 -3.108624e-15   \n",
       "1       -1 -3.552714e-15       -1 -2.220446e-16       -1 -3.108624e-15   \n",
       "2       -1 -3.552714e-15       -1 -2.220446e-16       -1 -3.108624e-15   \n",
       "3        1 -3.552714e-15        1 -2.220446e-16        1 -3.108624e-15   \n",
       "\n",
       "         D1  y_pred  \n",
       "0  0.000952     1.0  \n",
       "1  0.000952    -1.0  \n",
       "2  0.000952    -1.0  \n",
       "3  0.000952     1.0  "
      ]
     },
     "execution_count": 46,
     "metadata": {},
     "output_type": "execute_result"
    }
   ],
   "source": [
    "df.iloc[:,28:].head(4)"
   ]
  },
  {
   "cell_type": "code",
   "execution_count": 47,
   "id": "bc5d1180-dc85-4016-8a00-6ece2d841d52",
   "metadata": {},
   "outputs": [
    {
     "name": "stdout",
     "output_type": "stream",
     "text": [
      "[[179  33]\n",
      " [ 11 346]]\n",
      "0.9226713532513181\n"
     ]
    }
   ],
   "source": [
    "from sklearn.metrics import accuracy_score, confusion_matrix\n",
    "print(confusion_matrix(df['y'], df['y_pred']))\n",
    "print(accuracy_score(df['y'], df['y_pred']))"
   ]
  },
  {
   "cell_type": "code",
   "execution_count": 48,
   "id": "b2e51ac3-6f74-4a53-bfa5-faeb4e50ff55",
   "metadata": {},
   "outputs": [
    {
     "name": "stdout",
     "output_type": "stream",
     "text": [
      "[[203   9]\n",
      " [ 11 346]]\n",
      "0.9648506151142355\n"
     ]
    }
   ],
   "source": [
    "from sklearn.ensemble import AdaBoostClassifier\n",
    "dtc = DecisionTreeClassifier(criterion='gini', random_state=42, \n",
    "                             max_depth=1)\n",
    "abc = AdaBoostClassifier(dtc, n_estimators=4, algorithm='SAMME')\n",
    "abc.fit(df.loc[:,cols], df['y'])\n",
    "y_pred = abc.predict(df.loc[:,cols])\n",
    "\n",
    "print(confusion_matrix(df['y'], y_pred))\n",
    "print(accuracy_score(df['y'], y_pred))"
   ]
  }
 ],
 "metadata": {
  "kernelspec": {
   "display_name": "Python 3 (ipykernel)",
   "language": "python",
   "name": "python3"
  },
  "language_info": {
   "codemirror_mode": {
    "name": "ipython",
    "version": 3
   },
   "file_extension": ".py",
   "mimetype": "text/x-python",
   "name": "python",
   "nbconvert_exporter": "python",
   "pygments_lexer": "ipython3",
   "version": "3.9.12"
  }
 },
 "nbformat": 4,
 "nbformat_minor": 5
}
